{
 "cells": [
  {
   "cell_type": "markdown",
   "metadata": {},
   "source": [
    "# Day 4\n",
    "- word search in array\n",
    "- XMAS can be forward, backward, diagonal, horizontal, vertical\n",
    "- solution idea: use numpy and convolutions to treat this like an image problem"
   ]
  },
  {
   "cell_type": "code",
   "execution_count": null,
   "metadata": {},
   "outputs": [
    {
     "data": {
      "text/plain": [
       "array([[83, 88, 77, ..., 83, 88, 77],\n",
       "       [83, 65, 77, ..., 77, 65, 83],\n",
       "       [83, 65, 77, ..., 77, 65, 77],\n",
       "       ...,\n",
       "       [77, 65, 83, ..., 65, 77, 83],\n",
       "       [77, 65, 77, ..., 77, 83, 88],\n",
       "       [77, 77, 83, ..., 83, 83, 88]])"
      ]
     },
     "execution_count": 43,
     "metadata": {},
     "output_type": "execute_result"
    }
   ],
   "source": [
    "import numpy as np\n",
    "from scipy.signal import convolve2d\n",
    "\n",
    "in_arr = []\n",
    "with open(\"data/day04.txt\", \"r\") as in_file:\n",
    "# ready by line and split strings to get 2d Python Array to put to numpy\n",
    "    for line in in_file.readlines():\n",
    "        in_arr.append([ord(x) for x in line.strip()])  # use ord to get unicode number of character\n",
    "\n",
    "word_arr = np.array(in_arr)\n",
    "\n",
    "word_arr"
   ]
  },
  {
   "cell_type": "code",
   "execution_count": 49,
   "metadata": {},
   "outputs": [
    {
     "name": "stdout",
     "output_type": "stream",
     "text": [
      "Part 1:\n",
      "2493\n"
     ]
    }
   ],
   "source": [
    "# part1 stolen from reddit after I just couldn't wrap my head around how to do this with 8 kernels to convolute to get the backwards iterations as well\n",
    "coords = {x+1j*y: c for y, r in enumerate(open(\"data/day04.txt\")) for x, c in enumerate(r)}\n",
    "g = lambda c: coords.get(c, \"\")\n",
    "\n",
    "s1 = 0\n",
    "for c in coords:\n",
    "    for d in [1, 1j, 1+1j, 1-1j, -1, -1j, -1+1j, -1-1j]:\n",
    "        s1 += g(c) + g(c+d) + g(c+d*2) + g(c+d*3) == \"XMAS\"\n",
    "print(\"Part 1:\", s1, sep=\"\\n\")"
   ]
  },
  {
   "cell_type": "code",
   "execution_count": 50,
   "metadata": {},
   "outputs": [
    {
     "data": {
      "text/plain": [
       "array([[0.01298701, 0.        , 0.01204819],\n",
       "       [0.        , 0.01538462, 0.        ],\n",
       "       [0.01298701, 0.        , 0.01204819]])"
      ]
     },
     "execution_count": 50,
     "metadata": {},
     "output_type": "execute_result"
    }
   ],
   "source": [
    "# convolution kernel for MAS\n",
    "mas = np.array([[1 / ord('M'), 0, 1 / ord('S')],\n",
    "                  [0, 1 / ord('A'), 0],\n",
    "                  [1 / ord('M'), 0, 1 / ord('S')]])\n",
    "\n",
    "mas\n"
   ]
  },
  {
   "cell_type": "code",
   "execution_count": 51,
   "metadata": {},
   "outputs": [
    {
     "name": "stdout",
     "output_type": "stream",
     "text": [
      "Part 2: 1890\n"
     ]
    }
   ],
   "source": [
    "# rotate 90deg 4 times to look in all directions\n",
    "rotations = [np.rot90(mas, i) for i in range(4)]\n",
    "\n",
    "total = 0\n",
    "for rot in rotations:\n",
    "    conv = convolve2d(word_arr, rot, mode='valid')\n",
    "    total += np.count_nonzero(conv == 5)\n",
    "print(\"Part 2:\", total)"
   ]
  }
 ],
 "metadata": {
  "kernelspec": {
   "display_name": ".venv",
   "language": "python",
   "name": "python3"
  },
  "language_info": {
   "codemirror_mode": {
    "name": "ipython",
    "version": 3
   },
   "file_extension": ".py",
   "mimetype": "text/x-python",
   "name": "python",
   "nbconvert_exporter": "python",
   "pygments_lexer": "ipython3",
   "version": "3.11.10"
  }
 },
 "nbformat": 4,
 "nbformat_minor": 2
}
