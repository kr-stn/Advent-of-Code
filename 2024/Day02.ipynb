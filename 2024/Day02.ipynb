{
 "cells": [
  {
   "cell_type": "markdown",
   "metadata": {},
   "source": [
    "# Day 02\n",
    "- linewise entries, values split by spaces\n",
    "- values in each line must be all increasing or decreasing\n",
    "- pairs must differ by >= 1 <= 3\n",
    "- solution: How many lines satisfy this criteria?"
   ]
  },
  {
   "cell_type": "code",
   "execution_count": 17,
   "metadata": {},
   "outputs": [],
   "source": [
    "# read lines, then split into list of lists by space separator\n",
    "with open(\"data/day02.txt\", \"r\") as in_file:\n",
    "    levels = in_file.read().strip().split(\"\\n\")\n",
    "    rows = [[int(x) for x in row.split(\" \")]for row in levels]"
   ]
  },
  {
   "cell_type": "code",
   "execution_count": null,
   "metadata": {},
   "outputs": [
    {
     "name": "stdout",
     "output_type": "stream",
     "text": [
      "False {2, -3, -2, -1}\n"
     ]
    }
   ],
   "source": [
    "#  solving for a single row\n",
    "rows[0]\n",
    "dist = [rows[0][i] - rows[0][i + 1] for i in range(len(rows[0]) - 1)] # get pairwise distances\n",
    "x = set(dist)\n",
    "if x.issubset({-3, -2, -1}) or x.issubset({1, 2, 3}): # distances need to be a subset of -3,-2,-1 or 1,2,3 otherwise they are not within the distance limitation and not continious ascending or descending\n",
    "    print(\"True\")\n",
    "else:\n",
    "    print(\"False\", x)"
   ]
  },
  {
   "cell_type": "code",
   "execution_count": 54,
   "metadata": {},
   "outputs": [],
   "source": [
    "def safe_row(row):\n",
    "    dist = set([row[i] - row[i + 1] for i in range(len(row) - 1)])\n",
    "    if dist.issubset({-3, -2, -1}) or dist.issubset({1, 2, 3}):\n",
    "        return True\n",
    "    else:\n",
    "        return False\n",
    "    \n",
    "count = [safe_row(row) for row in rows]"
   ]
  },
  {
   "cell_type": "code",
   "execution_count": 55,
   "metadata": {},
   "outputs": [
    {
     "name": "stdout",
     "output_type": "stream",
     "text": [
      "Safe levels: 486\n"
     ]
    }
   ],
   "source": [
    "print(\"Safe levels:\", sum(count))"
   ]
  },
  {
   "cell_type": "markdown",
   "metadata": {},
   "source": [
    "## Part 2\n",
    "- 1 violating level is allowed per row\n",
    "- subset needs to allow 1 outlier so likely need to get intersection for each allowed set and then len<=4"
   ]
  },
  {
   "cell_type": "code",
   "execution_count": 60,
   "metadata": {},
   "outputs": [
    {
     "data": {
      "text/plain": [
       "1"
      ]
     },
     "execution_count": 60,
     "metadata": {},
     "output_type": "execute_result"
    }
   ],
   "source": [
    "len({2, -1} - {-3, -2, -1})"
   ]
  },
  {
   "cell_type": "code",
   "execution_count": 66,
   "metadata": {},
   "outputs": [],
   "source": [
    "def safe_row_outlier(row):\n",
    "    dist = set([row[i] - row[i + 1] for i in range(len(row) - 1)])\n",
    "    if len(dist - {-3, -2, -1}) <= 1 or len(dist - {1, 2, 3}) <= 1:\n",
    "        return True\n",
    "    else:\n",
    "        return False\n",
    "    \n",
    "count_outlier = [safe_row_outlier(row) for row in rows]"
   ]
  },
  {
   "cell_type": "code",
   "execution_count": 67,
   "metadata": {},
   "outputs": [
    {
     "name": "stdout",
     "output_type": "stream",
     "text": [
      "Safe levels with 1 outlier allowed: 581\n"
     ]
    }
   ],
   "source": [
    "print(\"Safe levels with 1 outlier allowed:\", sum(count_outlier))"
   ]
  }
 ],
 "metadata": {
  "kernelspec": {
   "display_name": ".venv",
   "language": "python",
   "name": "python3"
  },
  "language_info": {
   "codemirror_mode": {
    "name": "ipython",
    "version": 3
   },
   "file_extension": ".py",
   "mimetype": "text/x-python",
   "name": "python",
   "nbconvert_exporter": "python",
   "pygments_lexer": "ipython3",
   "version": "3.11.10"
  }
 },
 "nbformat": 4,
 "nbformat_minor": 2
}
