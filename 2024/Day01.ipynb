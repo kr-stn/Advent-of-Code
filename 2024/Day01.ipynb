{
 "cells": [
  {
   "cell_type": "markdown",
   "metadata": {},
   "source": [
    "# Day 01\n",
    "[Day 01](https://adventofcode.com/2024/day/1)\n",
    "- locationID is unique\n",
    "- 2 lists, sort by value, measure pairwise distance between both lists\n",
    "- sum up distances over all values\n"
   ]
  },
  {
   "cell_type": "code",
   "execution_count": null,
   "metadata": {},
   "outputs": [],
   "source": [
    "# read file, split by line, group into A and B\n",
    "# using Numpy's loadtxt makes this \n",
    "from numpy import loadtxt, isin, sort\n",
    "\n",
    "X,Y = loadtxt(\"data/day01.txt\", int).T # load and Transpose to get 1 array per list"
   ]
  },
  {
   "cell_type": "code",
   "execution_count": null,
   "metadata": {},
   "outputs": [],
   "source": [
    "# convert arrays to lists and sort\n",
    "X = sorted(X.tolist())\n",
    "Y = sorted(Y.tolist())\n"
   ]
  },
  {
   "cell_type": "code",
   "execution_count": null,
   "metadata": {},
   "outputs": [
    {
     "name": "stdout",
     "output_type": "stream",
     "text": [
      "Pairwise distance sum - part 1: 2164381\n"
     ]
    }
   ],
   "source": [
    "print(\"Pairwise distance sum - part 1:\",\n",
    "    sum(map(lambda x, y: abs(x - y), X, Y)))"
   ]
  },
  {
   "cell_type": "markdown",
   "metadata": {},
   "source": [
    "## Part 2\n",
    "- count how often element from X is in Y\n",
    "- similarity score is sum of value multiplied by appeareance in other list"
   ]
  },
  {
   "cell_type": "code",
   "execution_count": null,
   "metadata": {},
   "outputs": [
    {
     "name": "stdout",
     "output_type": "stream",
     "text": [
      "Sum of similarity score: 20719933\n"
     ]
    }
   ],
   "source": [
    "# using map and lambda functions to filter and count\n",
    "print(\"Sum of similarity score:\",sum(map(lambda x: x * Y.count(x), X)))"
   ]
  }
 ],
 "metadata": {
  "kernelspec": {
   "display_name": ".venv",
   "language": "python",
   "name": "python3"
  },
  "language_info": {
   "codemirror_mode": {
    "name": "ipython",
    "version": 3
   },
   "file_extension": ".py",
   "mimetype": "text/x-python",
   "name": "python",
   "nbconvert_exporter": "python",
   "pygments_lexer": "ipython3",
   "version": "3.11.10"
  }
 },
 "nbformat": 4,
 "nbformat_minor": 2
}
