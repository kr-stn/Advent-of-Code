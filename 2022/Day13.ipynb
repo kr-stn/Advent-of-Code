{
 "cells": [
  {
   "cell_type": "markdown",
   "id": "0fe2fae0-1a90-4777-a36c-b1a857306043",
   "metadata": {},
   "source": [
    "# Day 13\n",
    "https://adventofcode.com/2022/day/13\n",
    "\n",
    "compare lists of packets\n",
    "* left should be smaller than right (in pairwise comparisons)\n",
    "* left should be equal or longer than right (in length)"
   ]
  },
  {
   "cell_type": "code",
   "execution_count": 39,
   "id": "7ade7ff4-916c-4095-8704-95a7066ba4ae",
   "metadata": {},
   "outputs": [],
   "source": [
    "# read input with line eval\n",
    "with open(\"Day13.txt\", \"r\") as f:\n",
    "    groups = f.read().strip().split(\"\\n\\n\")\n",
    "    groups = [[eval(line) for line in group.split(\"\\n\")] for group in groups]  # eval is a bit dodgy but we know the sample input is save"
   ]
  },
  {
   "cell_type": "code",
   "execution_count": 40,
   "id": "07647ce5-a3fa-4238-bcb0-84a94d1bf017",
   "metadata": {},
   "outputs": [],
   "source": [
    "def compare(left, right):\n",
    "    \"\"\"\n",
    "    returns -1 if left < right, +1 if left > right, else 0\n",
    "    recurses through nested lists of pairs\n",
    "    \"\"\"\n",
    "    # compare if both int\n",
    "    if type(left) is int and type(right) is int:\n",
    "        if left < right:\n",
    "            return -1\n",
    "        if left > right:\n",
    "            return +1\n",
    "        else:\n",
    "            return 0\n",
    "    \n",
    "    # convert to lists if unequal type\n",
    "    if type(left) is int:\n",
    "        left = [left]\n",
    "    if type(right) is int:\n",
    "        right = [right]\n",
    "        \n",
    "    # compare lists\n",
    "    if left == [] and right != []:\n",
    "        return -1\n",
    "    if left != [] and right == []:\n",
    "        return +1\n",
    "    if left == [] and right == []:\n",
    "        return 0\n",
    "    \n",
    "    # recursion\n",
    "    rec = compare(left[0], right[0])\n",
    "    if rec:\n",
    "        return rec\n",
    "    else:\n",
    "        return compare(left[1:], right[1:])   \n",
    "    "
   ]
  },
  {
   "cell_type": "code",
   "execution_count": 19,
   "id": "2d3be4c7-34d6-41fb-bd8b-15e166f76a2d",
   "metadata": {},
   "outputs": [],
   "source": [
    "right_order = [x for x in range(1, len(groups) + 1) if compare(groups[x - 1][0], groups[x - 1][1]) == -1]"
   ]
  },
  {
   "cell_type": "code",
   "execution_count": 23,
   "id": "30c8dcf7-8258-4f1b-a6b5-2151a2553956",
   "metadata": {},
   "outputs": [
    {
     "name": "stdout",
     "output_type": "stream",
     "text": [
      "Sum of rightly ordered packages: 5503\n"
     ]
    }
   ],
   "source": [
    "print(\"Sum of rightly ordered packages:\", sum(right_order))"
   ]
  },
  {
   "cell_type": "markdown",
   "id": "22b821a1-d812-4a95-aee1-d0fe4e5333b0",
   "metadata": {},
   "source": [
    "## Part 2\n",
    "\n",
    "* put all packets in right order, disregarding blank lines\n",
    "* add divider packets `[[2]], [[6]]`\n",
    "> To find the decoder key for this distress signal, you need to determine the indices of the two divider packets and multiply them together. (The first packet is at index 1, the second packet is at index 2, and so on.) In this example, the divider packets are 10th and 14th, and so the decoder key is 140."
   ]
  },
  {
   "cell_type": "markdown",
   "id": "cb0a3368-4e90-4e09-b67e-e41d89c1cbb5",
   "metadata": {},
   "source": [
    "Using [functools.cmp_to_key](https://docs.python.org/3.8/library/functools.html#functools.cmp_to_key) after receiving a friendly tip."
   ]
  },
  {
   "cell_type": "code",
   "execution_count": 46,
   "id": "e04037bc-2f5d-4ac6-8800-8b660adeb4ec",
   "metadata": {},
   "outputs": [],
   "source": [
    "# add decoder keys\n",
    "def packets(groups):\n",
    "    packet = [ [[2]], [[6]] ]\n",
    "    for x,y in groups:\n",
    "        packet.append(x)\n",
    "        packet.append(y)\n",
    "    return packet"
   ]
  },
  {
   "cell_type": "code",
   "execution_count": 47,
   "id": "9fa7ceba-3ca9-4b11-9c21-2f7d4f888a66",
   "metadata": {},
   "outputs": [],
   "source": [
    "import functools\n",
    "\n",
    "def part_2(groups):\n",
    "    result = packets(groups)\n",
    "    result_sorted = sorted(result, key=functools.cmp_to_key(compare))\n",
    "\n",
    "    return (result_sorted.index([[2]]) + 1) * (result_sorted.index([[6]]) + 1)"
   ]
  },
  {
   "cell_type": "code",
   "execution_count": 48,
   "id": "ea1a0065-839b-4b45-a98e-271cb65199fc",
   "metadata": {},
   "outputs": [
    {
     "name": "stdout",
     "output_type": "stream",
     "text": [
      "Part 2: 20952\n"
     ]
    }
   ],
   "source": [
    "print(\"Part 2:\",part_2(groups))"
   ]
  }
 ],
 "metadata": {
  "kernelspec": {
   "display_name": "Python 3 (ipykernel)",
   "language": "python",
   "name": "python3"
  },
  "language_info": {
   "codemirror_mode": {
    "name": "ipython",
    "version": 3
   },
   "file_extension": ".py",
   "mimetype": "text/x-python",
   "name": "python",
   "nbconvert_exporter": "python",
   "pygments_lexer": "ipython3",
   "version": "3.10.8"
  }
 },
 "nbformat": 4,
 "nbformat_minor": 5
}
