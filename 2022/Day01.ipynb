{
 "cells": [
  {
   "cell_type": "markdown",
   "id": "12145bc5-f672-4a32-8978-67b681b19bd7",
   "metadata": {},
   "source": [
    "# Day 01\n",
    "https://adventofcode.com/2022/day/1\n",
    "\n",
    "* read input, separate into lists by empty line separator\n",
    "* sum each list, find max, solution is max"
   ]
  },
  {
   "cell_type": "code",
   "execution_count": 29,
   "id": "80897294-f5ed-4974-8044-7a973a22ab65",
   "metadata": {},
   "outputs": [],
   "source": [
    "# read file, split by empty line, group into list of lists\n",
    "with open(\"Day01.txt\", \"r\") as f:\n",
    "    lines = f.read()            \n",
    "\n",
    "groups = lines.split(\"\\n\\n\")  # group by empty line\n",
    "groups = [x.split(\"\\n\") for x in groups]  # split groups by newline\n",
    "groups = [[int(x) for x in group] for group in groups]  # int conversion with nested sublist comprehesions\n",
    "# groups = [int(x) for y in groups for x in y] # \"val for sublist in list for val in sublist\" for nested list comprehension --> creates flattened list\n"
   ]
  },
  {
   "cell_type": "code",
   "execution_count": 39,
   "id": "85109b2b-3e65-4b98-85e2-d678119219d1",
   "metadata": {},
   "outputs": [
    {
     "name": "stdout",
     "output_type": "stream",
     "text": [
      "68787\n"
     ]
    }
   ],
   "source": [
    "sums = [sum(group) for group in groups]  # sum groups\n",
    "print(max(sums))  # highest calorie sum"
   ]
  },
  {
   "cell_type": "markdown",
   "id": "5c6004ff-56d8-4a90-9735-f88facdbea8f",
   "metadata": {},
   "source": [
    "## Part 2\n",
    "\n",
    "Sum the top 3 calorie groups\n",
    "* sort list\n",
    "* sum first 3 elements"
   ]
  },
  {
   "cell_type": "code",
   "execution_count": 48,
   "id": "0210dda1-ccdc-4487-bbe2-c5366dfe8575",
   "metadata": {},
   "outputs": [],
   "source": [
    "sums.sort(reverse=True)"
   ]
  },
  {
   "cell_type": "code",
   "execution_count": 51,
   "id": "a16971cf-6ef5-4519-bf6b-94742a70ff4a",
   "metadata": {},
   "outputs": [
    {
     "name": "stdout",
     "output_type": "stream",
     "text": [
      "198041\n"
     ]
    }
   ],
   "source": [
    "print(sum(sums[0:3]))"
   ]
  }
 ],
 "metadata": {
  "kernelspec": {
   "display_name": "Python 3 (ipykernel)",
   "language": "python",
   "name": "python3"
  },
  "language_info": {
   "codemirror_mode": {
    "name": "ipython",
    "version": 3
   },
   "file_extension": ".py",
   "mimetype": "text/x-python",
   "name": "python",
   "nbconvert_exporter": "python",
   "pygments_lexer": "ipython3",
   "version": "3.10.8"
  }
 },
 "nbformat": 4,
 "nbformat_minor": 5
}
